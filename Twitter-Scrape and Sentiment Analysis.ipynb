{
 "cells": [
  {
   "cell_type": "code",
   "execution_count": 2,
   "id": "778b7b4c-ccd2-4d0b-a46f-91d19f5eb103",
   "metadata": {},
   "outputs": [],
   "source": [
    "import json\n",
    "import csv\n",
    "import tweepy\n",
    "import nltk\n",
    "import string\n",
    "import re\n",
    "import pandas as pd\n",
    "from wordcloud import WordCloud\n",
    "from textblob import TextBlob\n",
    "import matplotlib.pyplot as plt\n",
    "plt.style.use('fivethirtyeight')"
   ]
  },
  {
   "cell_type": "code",
   "execution_count": 3,
   "id": "7626aa6d-65f5-4b53-876b-561528b5309f",
   "metadata": {},
   "outputs": [],
   "source": [
    "api_key=\"FyhYZQJj2BZnLiTtxks6uq8Hg\"\n",
    "api_key_secret =\"V1HqFCBudiDcfRChZNyabFpu1kbpIFTYmtlrQuMdk9GGHKihls\"\n",
    "bearer_token = \"AAAAAAAAAAAAAAAAAAAAAIXeeAEAAAAAnjkZQy0qEFaEym%2Fg0enPlBc%2Fkus%3DcUlNFpIv2cKo11sWB7QHrzDAaQp90irdoDf4nfjdoZQgmkJ5jm\"\n",
    "access_token = \"290002788-biPOSTt3vT6tcnQzAmAV8vusQ7PwgCPzVHCLn111\"\n",
    "access_token_secret = \"JqevILEkR0Huzi6ywCtmBY0Jua63z3sBAEfzwnczQWn3U\""
   ]
  },
  {
   "cell_type": "code",
   "execution_count": 4,
   "id": "14444bf8-d351-4020-a3c9-76c9c1ff0526",
   "metadata": {},
   "outputs": [],
   "source": [
    "client = tweepy.Client(bearer_token, api_key, api_key_secret, access_token, access_token_secret)\n",
    "auth = tweepy.OAuth1UserHandler(api_key, api_key_secret, access_token, access_token_secret)\n",
    "api = tweepy.API(auth)"
   ]
  },
  {
   "cell_type": "code",
   "execution_count": null,
   "id": "d8aac893-18fd-40d8-9526-f7d2df3fd80d",
   "metadata": {},
   "outputs": [
    {
     "name": "stdin",
     "output_type": "stream",
     "text": [
      "enter the user:  @NigeriaGov\n",
      "enter number of tweets:  200\n"
     ]
    }
   ],
   "source": [
    "user = input(\"enter the user: \")\n",
    "number_of_tweets = int(input(\"enter number of tweets: \"))\n",
    "tweets = []\n",
    "time = []\n",
    "\n",
    "def clean_text(text):\n",
    "  text = re.sub(r'@[A-Za-z09]+', '', text)\n",
    "  text = re.sub(r'#', '', text)\n",
    "  text = re.sub(r'RT[\\s]+', '', text)\n",
    "  text = re.sub(r'https?:\\/\\/?', '', text)\n",
    "\n",
    "  return text\n",
    "\n",
    "def get_subjectivity(text):\n",
    "  return TextBlob(text).sentiment.subjectivity\n",
    "\n",
    "def get_polarity(text):\n",
    "  return TextBlob(text).sentiment.polarity\n",
    "\n",
    "def analysis(score):\n",
    "  if score < 0:\n",
    "    return 'Negative'\n",
    "  elif score == 0:\n",
    "     return 'Neutral'\n",
    "  else:\n",
    "     return 'Positive'\n",
    "j=1\n",
    "\n",
    "for i in tweepy.Cursor(api.search_tweets, q = user, tweet_mode = \"extended\").items(number_of_tweets):\n",
    "    tweets.append(i.full_text)\n",
    "    time.append(i.created_at)\n",
    "    df = pd.DataFrame({'tweets':tweets, 'time':time})\n",
    "    df['tweets'] = df['tweets'].apply(clean_text)\n",
    "    df['Subjectivity'] = df['tweets'].apply(get_subjectivity)\n",
    "    df['Polarity'] = df['tweets'].apply(get_polarity)\n",
    "    df['Analysis'] = df['Polarity'].apply(analysis)\n",
    "\n",
    "all_words = ' '.join( [twts for twts in df['tweets']])\n",
    "word_Cloud = WordCloud(width=500, height=300, random_state=21, max_font_size=119).generate(all_words)\n",
    "plt.imshow(word_Cloud, interpolation='bilinear')\n",
    "plt.axis('off')\n",
    "plt.show()\n",
    "\n",
    "df['Analysis'].value_counts()\n",
    "\n",
    "plt.title('Sentiment Analysis')\n",
    "plt.xlabel('Sentiment')\n",
    "plt.ylabel('Counts')\n",
    "df['Analysis'].value_counts().plot(kind='bar')\n",
    "plt.show()\n",
    "\n",
    "df"
   ]
  },
  {
   "cell_type": "code",
   "execution_count": null,
   "id": "902d4ecd-8c7b-404a-b52b-a5e36e940845",
   "metadata": {},
   "outputs": [],
   "source": []
  }
 ],
 "metadata": {
  "environment": {
   "kernel": "python3",
   "name": "common-cpu.m94",
   "type": "gcloud",
   "uri": "gcr.io/deeplearning-platform-release/base-cpu:m94"
  },
  "kernelspec": {
   "display_name": "Python 3",
   "language": "python",
   "name": "python3"
  },
  "language_info": {
   "codemirror_mode": {
    "name": "ipython",
    "version": 3
   },
   "file_extension": ".py",
   "mimetype": "text/x-python",
   "name": "python",
   "nbconvert_exporter": "python",
   "pygments_lexer": "ipython3",
   "version": "3.7.12"
  }
 },
 "nbformat": 4,
 "nbformat_minor": 5
}
